{
 "cells": [
  {
   "cell_type": "code",
   "execution_count": 1,
   "metadata": {
    "collapsed": true
   },
   "outputs": [],
   "source": [
    "import networkx as nx"
   ]
  },
  {
   "cell_type": "code",
   "execution_count": null,
   "metadata": {
    "collapsed": true
   },
   "outputs": [],
   "source": []
  },
  {
   "cell_type": "code",
   "execution_count": 5,
   "metadata": {},
   "outputs": [],
   "source": [
    "BOARDSIZE = 8"
   ]
  },
  {
   "cell_type": "code",
   "execution_count": 6,
   "metadata": {
    "collapsed": true
   },
   "outputs": [],
   "source": [
    "G = nx.Graph()"
   ]
  },
  {
   "cell_type": "code",
   "execution_count": 7,
   "metadata": {
    "collapsed": true
   },
   "outputs": [],
   "source": [
    "# initialize list of node\n",
    "G.add_nodes_from(range(BOARDSIZE**2))"
   ]
  },
  {
   "cell_type": "code",
   "execution_count": 8,
   "metadata": {},
   "outputs": [
    {
     "data": {
      "text/plain": [
       "64"
      ]
     },
     "execution_count": 8,
     "metadata": {},
     "output_type": "execute_result"
    }
   ],
   "source": [
    "len(G)"
   ]
  },
  {
   "cell_type": "code",
   "execution_count": 14,
   "metadata": {
    "collapsed": true
   },
   "outputs": [],
   "source": [
    "def rankfile_to_nodeid(row, col, boardsize=BOARDSIZE):\n",
    "    return row * BOARDSIZE + col"
   ]
  },
  {
   "cell_type": "code",
   "execution_count": null,
   "metadata": {
    "collapsed": true
   },
   "outputs": [],
   "source": [
    "def is_legal_pos(row, col, boardsize=BOARDSIZE):\n",
    "    if 0 <= row < boardsize:\n",
    "        if 0 <= col < boardsize:\n",
    "            return True\n",
    "\n",
    "    return False"
   ]
  },
  {
   "cell_type": "code",
   "execution_count": 16,
   "metadata": {
    "collapsed": true
   },
   "outputs": [],
   "source": [
    "def get_legal_moves(row, col, boardsize=BOARDSIZE):\n",
    "    knight_moves = [(1, 2), (-1, 2), (1, -2), (-1, -2),\n",
    "                    (2, 1), (-2, 1), (2, -1), (-2, -1)]\n",
    "    \n",
    "    moves = []\n",
    "    for move in knight_moves:\n",
    "        new_row = row + move[0]\n",
    "        new_col = col + move[1]\n",
    "        \n",
    "        if is_legal_pos(new_row, new_col):\n",
    "            moves.append((new_row, new_col))\n",
    "        \n",
    "    return moves"
   ]
  },
  {
   "cell_type": "code",
   "execution_count": 20,
   "metadata": {},
   "outputs": [
    {
     "name": "stdout",
     "output_type": "stream",
     "text": [
      "0\n",
      "(-2, -1)\n",
      "1\n",
      "(-2, 0)\n",
      "2\n",
      "(-2, 1)\n",
      "3\n",
      "(-2, 2)\n",
      "4\n",
      "(-2, 3)\n",
      "5\n",
      "(-2, 4)\n",
      "6\n",
      "(-2, 5)\n",
      "7\n",
      "(-2, 6)\n",
      "8\n",
      "(-1, -1)\n",
      "9\n",
      "(-1, 0)\n",
      "10\n",
      "(-1, 1)\n",
      "11\n",
      "(-1, 2)\n",
      "12\n",
      "(-1, 3)\n",
      "13\n",
      "(-1, 4)\n",
      "14\n",
      "(-1, 5)\n",
      "15\n",
      "(-1, 6)\n",
      "16\n",
      "(0, -1)\n",
      "17\n",
      "(0, 0)\n",
      "18\n",
      "(0, 1)\n",
      "19\n",
      "(0, 2)\n",
      "20\n",
      "(0, 3)\n",
      "21\n",
      "(0, 4)\n",
      "22\n",
      "(0, 5)\n",
      "23\n",
      "(0, 6)\n",
      "24\n",
      "(1, -1)\n",
      "25\n",
      "(1, 0)\n",
      "26\n",
      "(1, 1)\n",
      "27\n",
      "(1, 2)\n",
      "28\n",
      "(1, 3)\n",
      "29\n",
      "(1, 4)\n",
      "30\n",
      "(1, 5)\n",
      "31\n",
      "(1, 6)\n",
      "32\n",
      "(2, -1)\n",
      "33\n",
      "(2, 0)\n",
      "34\n",
      "(2, 1)\n",
      "35\n",
      "(2, 2)\n",
      "36\n",
      "(2, 3)\n",
      "37\n",
      "(2, 4)\n",
      "38\n",
      "(2, 5)\n",
      "39\n",
      "(2, 6)\n",
      "40\n",
      "(3, -1)\n",
      "41\n",
      "(3, 0)\n",
      "42\n",
      "(3, 1)\n",
      "43\n",
      "(3, 2)\n",
      "44\n",
      "(3, 3)\n",
      "45\n",
      "(3, 4)\n",
      "46\n",
      "(3, 5)\n",
      "47\n",
      "(3, 6)\n",
      "48\n",
      "(4, -1)\n",
      "49\n",
      "(4, 0)\n",
      "50\n",
      "(4, 1)\n",
      "51\n",
      "(4, 2)\n",
      "52\n",
      "(4, 3)\n",
      "53\n",
      "(4, 4)\n",
      "54\n",
      "(4, 5)\n",
      "55\n",
      "(4, 6)\n",
      "56\n",
      "(5, -1)\n",
      "57\n",
      "(5, 0)\n",
      "58\n",
      "(5, 1)\n",
      "59\n",
      "(5, 2)\n",
      "60\n",
      "(5, 3)\n",
      "61\n",
      "(5, 4)\n",
      "62\n",
      "(5, 5)\n",
      "63\n",
      "(5, 6)\n"
     ]
    }
   ],
   "source": [
    "for row in range(BOARDSIZE):\n",
    "    for col in range(BOARDSIZE):\n",
    "        current_node = rankfile_to_nodeid(row, col)\n",
    "        \n",
    "        print(current_node)\n",
    "        print(get_legal_moves(row, col))"
   ]
  },
  {
   "cell_type": "code",
   "execution_count": null,
   "metadata": {
    "collapsed": true
   },
   "outputs": [],
   "source": []
  }
 ],
 "metadata": {
  "kernelspec": {
   "display_name": "Python 3",
   "language": "python",
   "name": "python3"
  },
  "language_info": {
   "codemirror_mode": {
    "name": "ipython",
    "version": 3
   },
   "file_extension": ".py",
   "mimetype": "text/x-python",
   "name": "python",
   "nbconvert_exporter": "python",
   "pygments_lexer": "ipython3",
   "version": "3.6.1"
  }
 },
 "nbformat": 4,
 "nbformat_minor": 2
}
